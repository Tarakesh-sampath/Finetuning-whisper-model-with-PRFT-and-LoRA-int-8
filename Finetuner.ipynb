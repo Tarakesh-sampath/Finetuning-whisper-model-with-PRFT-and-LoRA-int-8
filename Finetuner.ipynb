{
 "cells": [
  {
   "cell_type": "code",
   "execution_count": 13,
   "metadata": {},
   "outputs": [
    {
     "name": "stdout",
     "output_type": "stream",
     "text": [
      "Looking in indexes: https://pypi.org/simple, https://pypi.ngc.nvidia.com\n",
      "Requirement already satisfied: huggingface_hub in d:\\work\\vs_code_doc\\repo\\finetuning-whisper-model-with-prft-and-lora-int-8\\venv\\lib\\site-packages (0.26.3)\n",
      "Requirement already satisfied: datasets in d:\\work\\vs_code_doc\\repo\\finetuning-whisper-model-with-prft-and-lora-int-8\\venv\\lib\\site-packages (3.1.0)\n",
      "Collecting transformers\n",
      "  Downloading transformers-4.46.3-py3-none-any.whl.metadata (44 kB)\n",
      "Requirement already satisfied: filelock in d:\\work\\vs_code_doc\\repo\\finetuning-whisper-model-with-prft-and-lora-int-8\\venv\\lib\\site-packages (from huggingface_hub) (3.16.1)\n",
      "Requirement already satisfied: fsspec>=2023.5.0 in d:\\work\\vs_code_doc\\repo\\finetuning-whisper-model-with-prft-and-lora-int-8\\venv\\lib\\site-packages (from huggingface_hub) (2024.9.0)\n",
      "Requirement already satisfied: packaging>=20.9 in d:\\work\\vs_code_doc\\repo\\finetuning-whisper-model-with-prft-and-lora-int-8\\venv\\lib\\site-packages (from huggingface_hub) (24.2)\n",
      "Requirement already satisfied: pyyaml>=5.1 in d:\\work\\vs_code_doc\\repo\\finetuning-whisper-model-with-prft-and-lora-int-8\\venv\\lib\\site-packages (from huggingface_hub) (6.0.2)\n",
      "Requirement already satisfied: requests in d:\\work\\vs_code_doc\\repo\\finetuning-whisper-model-with-prft-and-lora-int-8\\venv\\lib\\site-packages (from huggingface_hub) (2.32.3)\n",
      "Requirement already satisfied: tqdm>=4.42.1 in d:\\work\\vs_code_doc\\repo\\finetuning-whisper-model-with-prft-and-lora-int-8\\venv\\lib\\site-packages (from huggingface_hub) (4.67.1)\n",
      "Requirement already satisfied: typing-extensions>=3.7.4.3 in d:\\work\\vs_code_doc\\repo\\finetuning-whisper-model-with-prft-and-lora-int-8\\venv\\lib\\site-packages (from huggingface_hub) (4.12.2)\n",
      "Requirement already satisfied: numpy>=1.17 in d:\\work\\vs_code_doc\\repo\\finetuning-whisper-model-with-prft-and-lora-int-8\\venv\\lib\\site-packages (from datasets) (2.0.2)\n",
      "Requirement already satisfied: pyarrow>=15.0.0 in d:\\work\\vs_code_doc\\repo\\finetuning-whisper-model-with-prft-and-lora-int-8\\venv\\lib\\site-packages (from datasets) (18.1.0)\n",
      "Requirement already satisfied: dill<0.3.9,>=0.3.0 in d:\\work\\vs_code_doc\\repo\\finetuning-whisper-model-with-prft-and-lora-int-8\\venv\\lib\\site-packages (from datasets) (0.3.8)\n",
      "Requirement already satisfied: pandas in d:\\work\\vs_code_doc\\repo\\finetuning-whisper-model-with-prft-and-lora-int-8\\venv\\lib\\site-packages (from datasets) (2.2.3)\n",
      "Requirement already satisfied: xxhash in d:\\work\\vs_code_doc\\repo\\finetuning-whisper-model-with-prft-and-lora-int-8\\venv\\lib\\site-packages (from datasets) (3.5.0)\n",
      "Requirement already satisfied: multiprocess<0.70.17 in d:\\work\\vs_code_doc\\repo\\finetuning-whisper-model-with-prft-and-lora-int-8\\venv\\lib\\site-packages (from datasets) (0.70.16)\n",
      "Requirement already satisfied: aiohttp in d:\\work\\vs_code_doc\\repo\\finetuning-whisper-model-with-prft-and-lora-int-8\\venv\\lib\\site-packages (from datasets) (3.11.8)\n",
      "Collecting regex!=2019.12.17 (from transformers)\n",
      "  Downloading regex-2024.11.6-cp39-cp39-win_amd64.whl.metadata (41 kB)\n",
      "Collecting tokenizers<0.21,>=0.20 (from transformers)\n",
      "  Downloading tokenizers-0.20.3-cp39-none-win_amd64.whl.metadata (6.9 kB)\n",
      "Collecting safetensors>=0.4.1 (from transformers)\n",
      "  Downloading safetensors-0.4.5-cp39-none-win_amd64.whl.metadata (3.9 kB)\n",
      "Requirement already satisfied: aiohappyeyeballs>=2.3.0 in d:\\work\\vs_code_doc\\repo\\finetuning-whisper-model-with-prft-and-lora-int-8\\venv\\lib\\site-packages (from aiohttp->datasets) (2.4.3)\n",
      "Requirement already satisfied: aiosignal>=1.1.2 in d:\\work\\vs_code_doc\\repo\\finetuning-whisper-model-with-prft-and-lora-int-8\\venv\\lib\\site-packages (from aiohttp->datasets) (1.3.1)\n",
      "Requirement already satisfied: async-timeout<6.0,>=4.0 in d:\\work\\vs_code_doc\\repo\\finetuning-whisper-model-with-prft-and-lora-int-8\\venv\\lib\\site-packages (from aiohttp->datasets) (5.0.1)\n",
      "Requirement already satisfied: attrs>=17.3.0 in d:\\work\\vs_code_doc\\repo\\finetuning-whisper-model-with-prft-and-lora-int-8\\venv\\lib\\site-packages (from aiohttp->datasets) (24.2.0)\n",
      "Requirement already satisfied: frozenlist>=1.1.1 in d:\\work\\vs_code_doc\\repo\\finetuning-whisper-model-with-prft-and-lora-int-8\\venv\\lib\\site-packages (from aiohttp->datasets) (1.5.0)\n",
      "Requirement already satisfied: multidict<7.0,>=4.5 in d:\\work\\vs_code_doc\\repo\\finetuning-whisper-model-with-prft-and-lora-int-8\\venv\\lib\\site-packages (from aiohttp->datasets) (6.1.0)\n",
      "Requirement already satisfied: propcache>=0.2.0 in d:\\work\\vs_code_doc\\repo\\finetuning-whisper-model-with-prft-and-lora-int-8\\venv\\lib\\site-packages (from aiohttp->datasets) (0.2.0)\n",
      "Requirement already satisfied: yarl<2.0,>=1.17.0 in d:\\work\\vs_code_doc\\repo\\finetuning-whisper-model-with-prft-and-lora-int-8\\venv\\lib\\site-packages (from aiohttp->datasets) (1.18.0)\n",
      "Requirement already satisfied: charset-normalizer<4,>=2 in d:\\work\\vs_code_doc\\repo\\finetuning-whisper-model-with-prft-and-lora-int-8\\venv\\lib\\site-packages (from requests->huggingface_hub) (3.4.0)\n",
      "Requirement already satisfied: idna<4,>=2.5 in d:\\work\\vs_code_doc\\repo\\finetuning-whisper-model-with-prft-and-lora-int-8\\venv\\lib\\site-packages (from requests->huggingface_hub) (3.10)\n",
      "Requirement already satisfied: urllib3<3,>=1.21.1 in d:\\work\\vs_code_doc\\repo\\finetuning-whisper-model-with-prft-and-lora-int-8\\venv\\lib\\site-packages (from requests->huggingface_hub) (2.2.3)\n",
      "Requirement already satisfied: certifi>=2017.4.17 in d:\\work\\vs_code_doc\\repo\\finetuning-whisper-model-with-prft-and-lora-int-8\\venv\\lib\\site-packages (from requests->huggingface_hub) (2024.8.30)\n",
      "Requirement already satisfied: colorama in d:\\work\\vs_code_doc\\repo\\finetuning-whisper-model-with-prft-and-lora-int-8\\venv\\lib\\site-packages (from tqdm>=4.42.1->huggingface_hub) (0.4.6)\n",
      "Requirement already satisfied: python-dateutil>=2.8.2 in d:\\work\\vs_code_doc\\repo\\finetuning-whisper-model-with-prft-and-lora-int-8\\venv\\lib\\site-packages (from pandas->datasets) (2.9.0.post0)\n",
      "Requirement already satisfied: pytz>=2020.1 in d:\\work\\vs_code_doc\\repo\\finetuning-whisper-model-with-prft-and-lora-int-8\\venv\\lib\\site-packages (from pandas->datasets) (2024.2)\n",
      "Requirement already satisfied: tzdata>=2022.7 in d:\\work\\vs_code_doc\\repo\\finetuning-whisper-model-with-prft-and-lora-int-8\\venv\\lib\\site-packages (from pandas->datasets) (2024.2)\n",
      "Requirement already satisfied: six>=1.5 in d:\\work\\vs_code_doc\\repo\\finetuning-whisper-model-with-prft-and-lora-int-8\\venv\\lib\\site-packages (from python-dateutil>=2.8.2->pandas->datasets) (1.16.0)\n",
      "Downloading transformers-4.46.3-py3-none-any.whl (10.0 MB)\n",
      "   ---------------------------------------- 0.0/10.0 MB ? eta -:--:--\n",
      "   ---- ----------------------------------- 1.0/10.0 MB 6.3 MB/s eta 0:00:02\n",
      "   ----------- ---------------------------- 2.9/10.0 MB 7.6 MB/s eta 0:00:01\n",
      "   ------------------- -------------------- 5.0/10.0 MB 8.6 MB/s eta 0:00:01\n",
      "   --------------------- ------------------ 5.5/10.0 MB 7.1 MB/s eta 0:00:01\n",
      "   -------------------------------- ------- 8.1/10.0 MB 8.3 MB/s eta 0:00:01\n",
      "   ---------------------------------------- 10.0/10.0 MB 8.8 MB/s eta 0:00:00\n",
      "Downloading regex-2024.11.6-cp39-cp39-win_amd64.whl (274 kB)\n",
      "Downloading safetensors-0.4.5-cp39-none-win_amd64.whl (286 kB)\n",
      "Downloading tokenizers-0.20.3-cp39-none-win_amd64.whl (2.4 MB)\n",
      "   ---------------------------------------- 0.0/2.4 MB ? eta -:--:--\n",
      "   ---------------------------------------- 2.4/2.4 MB 12.3 MB/s eta 0:00:00\n",
      "Installing collected packages: safetensors, regex, tokenizers, transformers\n",
      "Successfully installed regex-2024.11.6 safetensors-0.4.5 tokenizers-0.20.3 transformers-4.46.3\n"
     ]
    }
   ],
   "source": [
    "!pip3 install huggingface_hub datasets transformers"
   ]
  },
  {
   "cell_type": "markdown",
   "metadata": {},
   "source": [
    "# import modules"
   ]
  },
  {
   "cell_type": "code",
   "execution_count": 5,
   "metadata": {},
   "outputs": [],
   "source": [
    "import os"
   ]
  },
  {
   "cell_type": "code",
   "execution_count": 6,
   "metadata": {},
   "outputs": [],
   "source": [
    "\n",
    "model_name_or_path = \"openai/whisper-large-v2\"\n",
    "language = \"English\"\n",
    "language_abbr = \"en\"\n",
    "task = \"transcribe\"\n",
    "dataset_name = \"Tarakeshwaran/Whisper-train-data\""
   ]
  },
  {
   "cell_type": "markdown",
   "metadata": {},
   "source": [
    "# load data set"
   ]
  },
  {
   "cell_type": "code",
   "execution_count": 9,
   "metadata": {},
   "outputs": [
    {
     "name": "stderr",
     "output_type": "stream",
     "text": [
      "Generating train split: 100%|██████████| 80/80 [00:00<00:00, 11344.77 examples/s]\n",
      "Generating test split: 100%|██████████| 20/20 [00:00<00:00, 3085.98 examples/s]\n"
     ]
    },
    {
     "name": "stdout",
     "output_type": "stream",
     "text": [
      "DatasetDict({\n",
      "    train: Dataset({\n",
      "        features: ['audio', 'text', 'start', 'end'],\n",
      "        num_rows: 80\n",
      "    })\n",
      "    test: Dataset({\n",
      "        features: ['audio', 'text', 'start', 'end'],\n",
      "        num_rows: 20\n",
      "    })\n",
      "})\n"
     ]
    }
   ],
   "source": [
    "from datasets import load_dataset, DatasetDict\n",
    "\n",
    "data_dict= DatasetDict()\n",
    "\n",
    "data_dict[\"train\"] = load_dataset(dataset_name, split=\"train\")\n",
    "data_dict[\"test\"] = load_dataset(dataset_name, split=\"test\")\n",
    "\n",
    "print(data_dict)"
   ]
  },
  {
   "cell_type": "code",
   "execution_count": 10,
   "metadata": {},
   "outputs": [],
   "source": [
    "data_dict = data_dict.remove_columns([\"start\",\"end\"])"
   ]
  },
  {
   "cell_type": "code",
   "execution_count": 11,
   "metadata": {},
   "outputs": [
    {
     "data": {
      "text/plain": [
       "DatasetDict({\n",
       "    train: Dataset({\n",
       "        features: ['audio', 'text'],\n",
       "        num_rows: 80\n",
       "    })\n",
       "    test: Dataset({\n",
       "        features: ['audio', 'text'],\n",
       "        num_rows: 20\n",
       "    })\n",
       "})"
      ]
     },
     "execution_count": 11,
     "metadata": {},
     "output_type": "execute_result"
    }
   ],
   "source": [
    "data_dict"
   ]
  },
  {
   "cell_type": "markdown",
   "metadata": {},
   "source": [
    "## Prepare Feature Extractor, Tokenizer and Data"
   ]
  },
  {
   "cell_type": "code",
   "execution_count": 14,
   "metadata": {},
   "outputs": [
    {
     "name": "stderr",
     "output_type": "stream",
     "text": [
      "None of PyTorch, TensorFlow >= 2.0, or Flax have been found. Models won't be available and only tokenizers, configuration and file/data utilities can be used.\n",
      "d:\\Work\\vs_code_doc\\repo\\Finetuning-whisper-model-with-PRFT-and-LoRA-int-8\\venv\\lib\\site-packages\\huggingface_hub\\file_download.py:139: UserWarning: `huggingface_hub` cache-system uses symlinks by default to efficiently store duplicated files but your machine does not support them in C:\\Users\\tarak\\.cache\\huggingface\\hub\\models--openai--whisper-large-v2. Caching files will still work but in a degraded version that might require more space on your disk. This warning can be disabled by setting the `HF_HUB_DISABLE_SYMLINKS_WARNING` environment variable. For more details, see https://huggingface.co/docs/huggingface_hub/how-to-cache#limitations.\n",
      "To support symlinks on Windows, you either need to activate Developer Mode or to run Python as an administrator. In order to activate developer mode, see this article: https://docs.microsoft.com/en-us/windows/apps/get-started/enable-your-device-for-development\n",
      "  warnings.warn(message)\n"
     ]
    }
   ],
   "source": [
    "from transformers import WhisperFeatureExtractor\n",
    "\n",
    "feature_extractor = WhisperFeatureExtractor.from_pretrained(model_name_or_path)"
   ]
  },
  {
   "cell_type": "code",
   "execution_count": null,
   "metadata": {},
   "outputs": [],
   "source": []
  }
 ],
 "metadata": {
  "kernelspec": {
   "display_name": "venv",
   "language": "python",
   "name": "python3"
  },
  "language_info": {
   "codemirror_mode": {
    "name": "ipython",
    "version": 3
   },
   "file_extension": ".py",
   "mimetype": "text/x-python",
   "name": "python",
   "nbconvert_exporter": "python",
   "pygments_lexer": "ipython3",
   "version": "3.9.13"
  }
 },
 "nbformat": 4,
 "nbformat_minor": 2
}
